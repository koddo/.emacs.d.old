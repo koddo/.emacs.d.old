{
 "metadata": {
  "name": "",
  "signature": "sha256:c9fdf35bcd07c381b988af18346fceeb08107ce216817e4bd398641e9c93ecc1"
 },
 "nbformat": 3,
 "nbformat_minor": 0,
 "worksheets": [
  {
   "cells": [
    {
     "cell_type": "markdown",
     "metadata": {},
     "source": [
      "<img src=\"../images/ipython_logo.png\">"
     ]
    },
    {
     "cell_type": "markdown",
     "metadata": {},
     "source": [
      "Back to the main [Index](../Index.ipynb)"
     ]
    },
    {
     "cell_type": "heading",
     "level": 1,
     "metadata": {},
     "source": [
      "Notebook"
     ]
    },
    {
     "cell_type": "markdown",
     "metadata": {},
     "source": [
      "The IPython Notebook is a web-based interactive computing system that enables users to author documents that include live code, narrative text, LaTeX equations, HTML, images and video. These documents are contain a full record of a computation and its results and can be shared on email, [Dropbox](http://dropbox.com), version control systems (like git/[GitHub](http://github.com)) or [nbviewer.ipython.org](http://nbviewer.ipython.org)."
     ]
    },
    {
     "cell_type": "heading",
     "level": 2,
     "metadata": {},
     "source": [
      "Tutorials"
     ]
    },
    {
     "cell_type": "markdown",
     "metadata": {},
     "source": [
      "* [User Interface](User Interface.ipynb)\n",
      "* [Running Code](Running Code.ipynb)\n",
      "* [Basic Output](Basic Output.ipynb)\n",
      "* [Plotting with Matplotlib](Plotting with Matplotlib.ipynb)\n",
      "* [Markdown Cells](Markdown Cells.ipynb)\n",
      "* [Typesetting Math Using MathJax](Typesetting Math Using MathJax.ipynb)\n",
      "* [Display System](Display System.ipynb)\n",
      "* [Custom Display Logic](Custom Display Logic.ipynb)"
     ]
    },
    {
     "cell_type": "heading",
     "level": 2,
     "metadata": {},
     "source": [
      "Examples"
     ]
    },
    {
     "cell_type": "markdown",
     "metadata": {},
     "source": [
      "* [Trapezoid Rule](Trapezoid Rule.ipynb)\n",
      "* [SymPy](SymPy.ipynb)\n",
      "* [Raw Input](Raw Input.ipynb)\n",
      "* [Importing Notebooks](Importing Notebooks.ipynb)\n",
      "* [Connecting with the Qt Console](Connecting with the Qt Console.ipynb)\n",
      "* [Animations Using clear_output](Animations Using clear_output.ipynb)"
     ]
    }
   ],
   "metadata": {}
  }
 ]
}