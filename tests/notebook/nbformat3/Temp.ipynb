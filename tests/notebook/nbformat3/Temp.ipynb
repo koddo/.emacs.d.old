{
 "metadata": {
  "name": "",
  "signature": "sha256:cc07ff38c8c9ba2bc851da1d223227e384b1167160378e0ca6b0d2e4c074a770"
 },
 "nbformat": 3,
 "nbformat_minor": 0,
 "worksheets": []
}